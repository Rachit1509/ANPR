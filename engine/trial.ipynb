{
 "cells": [
  {
   "cell_type": "code",
   "execution_count": 11,
   "metadata": {},
   "outputs": [
    {
     "name": "stdout",
     "output_type": "stream",
     "text": [
      "MH 20EE 7598]\n"
     ]
    }
   ],
   "source": [
    "import numpy as np\n",
    "\n",
    "nos = np.array(['0.125691804516', 'MH 20EE 7598]', '\"PY OIBB 5956', 'DL 1OCEL58', 'IH2F.036', 'MHOZFE8819', 'TN 87 A 3980]', '6JO5Ja114h', '(L 26 H 5009', 'Tn21AQ1116', \"'TSOZFX353L\", 'IMHO1av8866', 'DL8CX4850'])\n",
    "print(nos[1])"
   ]
  },
  {
   "cell_type": "code",
   "execution_count": 12,
   "metadata": {},
   "outputs": [
    {
     "ename": "ValueError",
     "evalue": "The default Firebase app already exists. This means you called initialize_app() more than once without providing an app name as the second argument. In most cases you only need to call initialize_app() once. But if you do want to initialize multiple apps, pass a second argument to initialize_app() to give each app a unique name.",
     "output_type": "error",
     "traceback": [
      "\u001b[1;31m---------------------------------------------------------------------------\u001b[0m",
      "\u001b[1;31mValueError\u001b[0m                                Traceback (most recent call last)",
      "Cell \u001b[1;32mIn[12], line 9\u001b[0m\n\u001b[0;32m      7\u001b[0m \u001b[39m#Use a service account.\u001b[39;00m\n\u001b[0;32m      8\u001b[0m cred \u001b[39m=\u001b[39m credentials\u001b[39m.\u001b[39mCertificate(\u001b[39m\"\u001b[39m\u001b[39mSeviceAccount.json\u001b[39m\u001b[39m\"\u001b[39m)\n\u001b[1;32m----> 9\u001b[0m app \u001b[39m=\u001b[39m firebase_admin\u001b[39m.\u001b[39;49minitialize_app(cred)\n\u001b[0;32m     10\u001b[0m db \u001b[39m=\u001b[39m firestore\u001b[39m.\u001b[39mclient()\n",
      "File \u001b[1;32mc:\\Users\\dusng\\mambaforge\\lib\\site-packages\\firebase_admin\\__init__.py:71\u001b[0m, in \u001b[0;36minitialize_app\u001b[1;34m(credential, options, name)\u001b[0m\n\u001b[0;32m     68\u001b[0m         \u001b[39mreturn\u001b[39;00m app\n\u001b[0;32m     70\u001b[0m \u001b[39mif\u001b[39;00m name \u001b[39m==\u001b[39m _DEFAULT_APP_NAME:\n\u001b[1;32m---> 71\u001b[0m     \u001b[39mraise\u001b[39;00m \u001b[39mValueError\u001b[39;00m((\n\u001b[0;32m     72\u001b[0m         \u001b[39m'\u001b[39m\u001b[39mThe default Firebase app already exists. This means you called \u001b[39m\u001b[39m'\u001b[39m\n\u001b[0;32m     73\u001b[0m         \u001b[39m'\u001b[39m\u001b[39minitialize_app() more than once without providing an app name as \u001b[39m\u001b[39m'\u001b[39m\n\u001b[0;32m     74\u001b[0m         \u001b[39m'\u001b[39m\u001b[39mthe second argument. In most cases you only need to call \u001b[39m\u001b[39m'\u001b[39m\n\u001b[0;32m     75\u001b[0m         \u001b[39m'\u001b[39m\u001b[39minitialize_app() once. But if you do want to initialize multiple \u001b[39m\u001b[39m'\u001b[39m\n\u001b[0;32m     76\u001b[0m         \u001b[39m'\u001b[39m\u001b[39mapps, pass a second argument to initialize_app() to give each app \u001b[39m\u001b[39m'\u001b[39m\n\u001b[0;32m     77\u001b[0m         \u001b[39m'\u001b[39m\u001b[39ma unique name.\u001b[39m\u001b[39m'\u001b[39m))\n\u001b[0;32m     79\u001b[0m \u001b[39mraise\u001b[39;00m \u001b[39mValueError\u001b[39;00m((\n\u001b[0;32m     80\u001b[0m     \u001b[39m'\u001b[39m\u001b[39mFirebase app named \u001b[39m\u001b[39m\"\u001b[39m\u001b[39m{0}\u001b[39;00m\u001b[39m\"\u001b[39m\u001b[39m already exists. This means you called \u001b[39m\u001b[39m'\u001b[39m\n\u001b[0;32m     81\u001b[0m     \u001b[39m'\u001b[39m\u001b[39minitialize_app() more than once with the same app name as the \u001b[39m\u001b[39m'\u001b[39m\n\u001b[0;32m     82\u001b[0m     \u001b[39m'\u001b[39m\u001b[39msecond argument. Make sure you provide a unique name every time \u001b[39m\u001b[39m'\u001b[39m\n\u001b[0;32m     83\u001b[0m     \u001b[39m'\u001b[39m\u001b[39myou call initialize_app().\u001b[39m\u001b[39m'\u001b[39m)\u001b[39m.\u001b[39mformat(name))\n",
      "\u001b[1;31mValueError\u001b[0m: The default Firebase app already exists. This means you called initialize_app() more than once without providing an app name as the second argument. In most cases you only need to call initialize_app() once. But if you do want to initialize multiple apps, pass a second argument to initialize_app() to give each app a unique name."
     ]
    }
   ],
   "source": [
    "import firebase_admin\n",
    "from firebase_admin import credentials\n",
    "from firebase_admin import firestore\n",
    "from datetime import datetime\n",
    "from fuzzywuzzy import fuzz\n",
    "\n",
    "#Use a service account.\n",
    "cred = credentials.Certificate(\"SeviceAccount.json\")\n",
    "app = firebase_admin.initialize_app(cred)\n",
    "db = firestore.client()"
   ]
  },
  {
   "cell_type": "code",
   "execution_count": 13,
   "metadata": {},
   "outputs": [],
   "source": [
    "def checkdate(data,field):\n",
    "    if data and data[field]:\n",
    "        date_obj = datetime.strptime(data[field], \"%d-%b-%Y\")\n",
    "        current_date_obj = datetime.now()\n",
    "        if current_date_obj > date_obj:\n",
    "            # print('Expired '+field)\n",
    "            return True\n",
    "        print(date_obj)"
   ]
  },
  {
   "cell_type": "code",
   "execution_count": 14,
   "metadata": {},
   "outputs": [
    {
     "name": "stdout",
     "output_type": "stream",
     "text": [
      "<google.cloud.firestore_v1.base_document.DocumentSnapshot object at 0x0000023B8CBEBAF0>\n",
      "<google.cloud.firestore_v1.base_document.DocumentSnapshot object at 0x0000023B8DCC5BA0>\n",
      "<google.cloud.firestore_v1.base_document.DocumentSnapshot object at 0x0000023B8CBEBAF0>\n",
      "<google.cloud.firestore_v1.base_document.DocumentSnapshot object at 0x0000023B8DEAA3B0>\n",
      "<google.cloud.firestore_v1.base_document.DocumentSnapshot object at 0x0000023B8CBEBAF0>\n",
      "<google.cloud.firestore_v1.base_document.DocumentSnapshot object at 0x0000023B8DCC5BA0>\n",
      "<google.cloud.firestore_v1.base_document.DocumentSnapshot object at 0x0000023B8CBEBAF0>\n",
      "<google.cloud.firestore_v1.base_document.DocumentSnapshot object at 0x0000023B8DEAA4D0>\n",
      "<google.cloud.firestore_v1.base_document.DocumentSnapshot object at 0x0000023B8CBEBAF0>\n",
      "<google.cloud.firestore_v1.base_document.DocumentSnapshot object at 0x0000023B8DCC5BA0>\n",
      "<google.cloud.firestore_v1.base_document.DocumentSnapshot object at 0x0000023B8CBEBAF0>\n",
      "<google.cloud.firestore_v1.base_document.DocumentSnapshot object at 0x0000023B8DEAA7A0>\n",
      "<google.cloud.firestore_v1.base_document.DocumentSnapshot object at 0x0000023B8CBEBAF0>\n",
      "<google.cloud.firestore_v1.base_document.DocumentSnapshot object at 0x0000023B8DCC5BA0>\n",
      "<google.cloud.firestore_v1.base_document.DocumentSnapshot object at 0x0000023B8CBEBAF0>\n"
     ]
    },
    {
     "data": {
      "text/plain": [
       "array(['DL10CE4581', 'DL8CX4850', 'GJ05JA1143', 'KL26H5009', 'MH01AV8866',\n",
       "       'MH02FE8819', 'MH14DT8831', 'MH20BQ20', 'MH20EE7598', 'MH20EJ0365',\n",
       "       'PY01BB5956', 'TN21AQ1114', 'TN21AQ1116', 'TN87A3980',\n",
       "       'TS07FX3534'], dtype='<U32')"
      ]
     },
     "execution_count": 14,
     "metadata": {},
     "output_type": "execute_result"
    }
   ],
   "source": [
    "parivahan_car_nos = np.array([])\n",
    "parivahan_car = db.collection(u'parivahan_car_data')\n",
    "for doc in parivahan_car.stream():\n",
    "    parivahan_car_nos = np.append(parivahan_car_nos, doc.id)\n",
    "    print(doc)\n",
    "parivahan_car_nos"
   ]
  },
  {
   "cell_type": "code",
   "execution_count": 15,
   "metadata": {},
   "outputs": [
    {
     "name": "stdout",
     "output_type": "stream",
     "text": [
      "100\n",
      "2023-12-28 00:00:00\n",
      "2023-12-28 00:00:00\n",
      "100\n",
      "2024-01-06 00:00:00\n",
      "89\n",
      "100\n",
      "Expired\n",
      "100\n",
      "2023-10-11 00:00:00\n",
      "Expired\n",
      "90\n",
      "2023-04-30 00:00:00\n",
      "Expired\n",
      "100\n",
      "2023-04-29 00:00:00\n",
      "2023-10-14 00:00:00\n",
      "90\n",
      "2024-03-19 00:00:00\n",
      "Expired\n",
      "80\n",
      "2023-12-20 00:00:00\n",
      "100\n",
      "2024-02-13 00:00:00\n",
      "2023-08-31 00:00:00\n",
      "100\n",
      "['O.125691804516' 'MH20EE7598' 'PY01BB5956' 'DL10CE4581' 'IH2F.036'\n",
      " 'MH02FE8819' 'TN87A3980' 'GJ05JA1143' 'KL26H5009' 'TN21AQ1114'\n",
      " 'TS07FX3534' 'MH01AV8866' 'DL8CX4850']\n"
     ]
    }
   ],
   "source": [
    "nos_cleaned = np.array([])\n",
    "for no in nos:\n",
    "    no = no.replace(' ', '')\n",
    "    no = no.replace('\"', '')\n",
    "    no = no.replace(\"'\", '')\n",
    "    no = no.replace(']', '')\n",
    "    no = no.upper()\n",
    "    \n",
    "    no_12 = no[0:2]\n",
    "    no_12 = no_12.replace('(', 'K')\n",
    "    no_12 = no_12.replace('0', 'O')\n",
    "    no_12 = no_12.replace('1', 'I')\n",
    "    no_12 = no_12.replace('5', 'S')\n",
    "    no_12 = no_12.replace('8', 'B')\n",
    "    no_12 = no_12.replace('6', 'G')\n",
    "    \n",
    "    no_34 = no[2:4]\n",
    "    no_34 = no_34.replace('I', '1')\n",
    "    no_34 = no_34.replace('Z', '2')\n",
    "    no_34 = no_34.replace('O', '0')\n",
    "    no = no_12 + no_34 + no[4:]\n",
    "    # print(no)\n",
    "    for parivahan_car_no in parivahan_car_nos:\n",
    "        fuzz_score = fuzz.partial_ratio(no, parivahan_car_no)\n",
    "        \n",
    "        if(fuzz_score > 70):\n",
    "            no = parivahan_car_no\n",
    "            print(fuzz_score)\n",
    "            break\n",
    "    \n",
    "    # search car no on parivahan database\n",
    "    parivahan_car = db.collection(u'parivahan_car_data').document(no)\n",
    "    # get car data from parivahan database\n",
    "    current_car_data = db.collection(u'current_car_data').document(no)\n",
    "    # set car data to current_car_data\n",
    "    data = parivahan_car.get().to_dict()\n",
    "    \n",
    "    dt = datetime.now()\n",
    "    time_str = dt.strftime(\"%I:%M%p\")\n",
    "    # print(data)\n",
    "    if data:\n",
    "        data['created_date'] = time_str\n",
    "        data['validity'] = 'true'\n",
    "    # current_car_data.set(data)\n",
    "    nos_cleaned = np.append(nos_cleaned, no)\n",
    "    # checkdate(data,'tax_validity')\n",
    "    if checkdate(data,'insurance_validity')==True or checkdate(data,'puc_validity')==True:\n",
    "        print('Expired')\n",
    "        invalid_car_data = db.collection(u'invalid_car_data').document(no)\n",
    "        data['validity'] = 'false'\n",
    "        invalid_car_data = invalid_car_data.set(data)\n",
    "    \n",
    "    if data:   \n",
    "        current_car_data.set(data)\n",
    "print(nos_cleaned)"
   ]
  },
  {
   "cell_type": "code",
   "execution_count": 16,
   "metadata": {},
   "outputs": [
    {
     "data": {
      "text/plain": [
       "'03:48PM'"
      ]
     },
     "execution_count": 16,
     "metadata": {},
     "output_type": "execute_result"
    }
   ],
   "source": [
    "dt = datetime.now()\n",
    "time_str = dt.strftime(\"%I:%M%p\")\n",
    "data['created_date'] = time_str\n",
    "time_str"
   ]
  },
  {
   "cell_type": "code",
   "execution_count": 17,
   "metadata": {},
   "outputs": [
    {
     "name": "stdout",
     "output_type": "stream",
     "text": [
      "20\n",
      "22\n",
      "20\n",
      "22\n",
      "100\n",
      "50\n",
      "50\n",
      "38\n",
      "40\n",
      "40\n",
      "30\n",
      "20\n",
      "30\n",
      "22\n",
      "10\n"
     ]
    }
   ],
   "source": [
    "for parivahan_car_no in parivahan_car_nos:\n",
    "    fuzz_score = fuzz.partial_ratio('IMH01AV8866', parivahan_car_no)\n",
    "    print(fuzz_score)"
   ]
  }
 ],
 "metadata": {
  "kernelspec": {
   "display_name": "Python 3",
   "language": "python",
   "name": "python3"
  },
  "language_info": {
   "codemirror_mode": {
    "name": "ipython",
    "version": 3
   },
   "file_extension": ".py",
   "mimetype": "text/x-python",
   "name": "python",
   "nbconvert_exporter": "python",
   "pygments_lexer": "ipython3",
   "version": "3.10.12"
  },
  "orig_nbformat": 4
 },
 "nbformat": 4,
 "nbformat_minor": 2
}
